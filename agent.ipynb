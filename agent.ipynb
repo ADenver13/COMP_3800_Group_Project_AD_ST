{
 "cells": [
  {
   "cell_type": "code",
   "execution_count": null,
   "metadata": {},
   "outputs": [],
   "source": [
    "%pip install langchain_openai\n",
    "%pip install langchain\n",
    "%pip install python-docx"
   ]
  },
  {
   "cell_type": "code",
   "execution_count": 8,
   "metadata": {},
   "outputs": [],
   "source": [
    "import os\n",
    "from langchain_openai import OpenAI\n",
    "from langchain.prompts import PromptTemplate"
   ]
  },
  {
   "cell_type": "markdown",
   "metadata": {},
   "source": [
    "Set API Keys from .env file (example provided in github)"
   ]
  },
  {
   "cell_type": "code",
   "execution_count": null,
   "metadata": {},
   "outputs": [],
   "source": [
    "os.environ['LANGCHAIN_TRACING_V2'] = 'true'\n",
    "os.environ['LANGCHAIN_API_KEY'] = os.getenv('LANGCHAIN_API_KEY')\n",
    "os.environ['OPENAI_API_KEY'] = os.getenv('OPENAI_API_KEY')"
   ]
  },
  {
   "cell_type": "code",
   "execution_count": null,
   "metadata": {},
   "outputs": [],
   "source": [
    "llm = OpenAI(api_key=os.getenv('OPENAI_API_KEY'))\n",
    "terms_prompt_template = PromptTemplate.from_template(\"List {num_terms} key terms to learn about '{topic}'.\")\n",
    "definition_prompt_template = PromptTemplate.from_template(\"Provide a definition for the term '{term}':\")"
   ]
  },
  {
   "cell_type": "code",
   "execution_count": null,
   "metadata": {},
   "outputs": [],
   "source": [
    "# Generates n terms for a given topic (if no n provided, then 10 terms created by default)\n",
    "def get_terms_for_topic(topic, num_terms=10):\n",
    "        prompt = terms_prompt_template.format(topic=topic, num_terms=num_terms)\n",
    "        response = llm(prompt).text.strip()\n",
    "        terms = response.split('\\n')\n",
    "        return terms"
   ]
  },
  {
   "cell_type": "code",
   "execution_count": null,
   "metadata": {},
   "outputs": [],
   "source": [
    "# Generate flashcards\n",
    "def generate_flashcards(topic, num_terms=10):\n",
    "        terms = get_terms_for_topic(topic, num_terms)\n",
    "        flashcards = []\n",
    "\n",
    "        for term in terms:\n",
    "            prompt = definition_prompt_template.format(term=term)\n",
    "            response = llm(prompt).text.strip()\n",
    "            flashcards.append({\"Word\": term, \"Definition\": response})\n",
    "        \n",
    "        return flashcards"
   ]
  },
  {
   "cell_type": "code",
   "execution_count": null,
   "metadata": {},
   "outputs": [],
   "source": [
    "# Supported formats for files in Quizlet: Supported file types: .docx, .pdf, .pptx\n",
    "from docx import Document\n",
    "def save_to_docx(flashcards, filename=\"flashcards.docx\"):\n",
    "        doc = Document()\n",
    "        doc.add_heading('Flashcards', 0)\n",
    "\n",
    "        for flashcard in flashcards:\n",
    "            term = flashcard[\"Word\"]\n",
    "            definition = flashcard[\"Definition\"]\n",
    "            \n",
    "            doc.add_paragraph(term + ': ' + definition)\n",
    "\n",
    "        doc.save(filename)"
   ]
  },
  {
   "cell_type": "code",
   "execution_count": null,
   "metadata": {},
   "outputs": [],
   "source": [
    "def chatbot():\n",
    "    print(\"Welcome to the Flashcards Chatbot!\")\n",
    "    topic = input(\"Please enter a topic you want to study\").strip().lower()\n",
    "    num_terms = input(\"Please enter how many terms you want to study\")\n",
    "\n",
    "    flashcards = generate_flashcards(topic, num_terms)\n",
    "    save_to_docx(flashcards)"
   ]
  },
  {
   "cell_type": "code",
   "execution_count": null,
   "metadata": {},
   "outputs": [],
   "source": [
    "if __name__ == \"__main__\":\n",
    "    chatbot()"
   ]
  }
 ],
 "metadata": {
  "kernelspec": {
   "display_name": "Python 3",
   "language": "python",
   "name": "python3"
  },
  "language_info": {
   "codemirror_mode": {
    "name": "ipython",
    "version": 3
   },
   "file_extension": ".py",
   "mimetype": "text/x-python",
   "name": "python",
   "nbconvert_exporter": "python",
   "pygments_lexer": "ipython3",
   "version": "3.10.11"
  }
 },
 "nbformat": 4,
 "nbformat_minor": 2
}
