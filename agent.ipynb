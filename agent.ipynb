{
 "cells": [
  {
   "cell_type": "markdown",
   "metadata": {},
   "source": [
    "# Flashcards Agent Demo\n",
    "### Sofia Toropova, Aiden Dever"
   ]
  },
  {
   "cell_type": "code",
   "execution_count": 13,
   "metadata": {},
   "outputs": [],
   "source": [
    "# %pip install langchain_openai\n",
    "# %pip install langchain\n",
    "# %pip install python-docx\n",
    "# %pip install dotenv\n",
    "# %pip install fpdf\n",
    "# %pip install python-docx"
   ]
  },
  {
   "cell_type": "code",
   "execution_count": 14,
   "metadata": {},
   "outputs": [],
   "source": [
    "import os\n",
    "import sys\n",
    "from langchain_openai import OpenAI\n",
    "from langchain.prompts import PromptTemplate\n",
    "from langchain.agents import Tool, initialize_agent, AgentType\n",
    "from dotenv import load_dotenv # load env for enviroment variables\n",
    "from fpdf import FPDF # For saving flashcards to pdf\n",
    "from docx import Document # For saving to docx\n"
   ]
  },
  {
   "cell_type": "markdown",
   "metadata": {},
   "source": [
    "Set API Keys from .env file (example .env provided in github)"
   ]
  },
  {
   "cell_type": "code",
   "execution_count": 15,
   "metadata": {},
   "outputs": [],
   "source": [
    "load_dotenv()\n",
    "\n",
    "os.environ['LANGCHAIN_TRACING_V2'] = 'true'\n",
    "os.environ['LANGCHAIN_API_KEY'] = os.getenv('LANGCHAIN_API_KEY')\n",
    "os.environ['OPENAI_API_KEY'] = os.getenv('OPENAI_API_KEY')"
   ]
  },
  {
   "cell_type": "markdown",
   "metadata": {},
   "source": [
    "Define two global variables, one to hold our flashcards and the other to control the main agent loop."
   ]
  },
  {
   "cell_type": "code",
   "execution_count": 16,
   "metadata": {},
   "outputs": [],
   "source": [
    "current_flashcards = \"\"\n",
    "is_finished = False"
   ]
  },
  {
   "cell_type": "markdown",
   "metadata": {},
   "source": [
    "Define prompts for agent. One for flashcards, and one for reccomending additional flashcards. The prompts could use some refining."
   ]
  },
  {
   "cell_type": "code",
   "execution_count": 17,
   "metadata": {},
   "outputs": [],
   "source": [
    "llm = OpenAI(api_key=os.getenv('OPENAI_API_KEY'), temperature=.2)\n",
    "flashcards_prompt_template = PromptTemplate.from_template((\n",
    "    \"List flashcards from the text provided below. The flashcards should be about the content the text is trying to teach.\\n\"\n",
    "    \"The flashcards must be provided in the following format: \"\n",
    "    \"FLASHCARDS:\\nTerm1,Definition1\\nTerm2,Definition2\\nTermn,Definitionn\\n\"\n",
    "    \"where Termn, Definitionn is the number of terms specified. Please make these flashcards with the tone specified\"\n",
    "    \"Here's the text that the user provided. If no number of flashcards is specified, provide exactly 10.\"\n",
    "    \"USER DATA:\\n{user_input_data}\"\n",
    "))\n",
    "reccomend_prompt_template = PromptTemplate.from_template((\n",
    "    \"You have already generated the following flashcards:\\n{flashcards}\\n\"\n",
    "    \"Reccomend and create up to {number_new_flashcards} new flashcards based on the existing flashcards.\"\n",
    "    \"The new flashcards can and should be an extension of the old ones.\\n\"\n",
    "    \"Combine the new flashcards and the old flashcards. They must be in the following format:\\n\"\n",
    "    \"FLASHCARDS:\\nTerm1,Definition1\\nTerm2,Definition2\\nTermn,Definitionn\\n\"\n",
    "    \"where Termn, Definitionn is the number of terms specified.\"\n",
    "))"
   ]
  },
  {
   "cell_type": "markdown",
   "metadata": {},
   "source": [
    "Saves the flashcards to a certain document type, specified by the tool. Each lives in the `output` directory."
   ]
  },
  {
   "cell_type": "code",
   "execution_count": 18,
   "metadata": {},
   "outputs": [],
   "source": [
    "def save_flashcards(type):\n",
    "    global current_flashcards\n",
    "    global is_finished\n",
    "    if type == \"text\":\n",
    "        with open('output/flashcards.txt', 'w') as file:\n",
    "            file.write(current_flashcards)\n",
    "    elif type == \"pdf\":\n",
    "        pdf = FPDF()\n",
    "\n",
    "        # Add a page to the PDF\n",
    "        pdf.add_page()\n",
    "        pdf.set_font(\"Arial\", size=12)\n",
    "        pdf.multi_cell(0, 10, current_flashcards) # Multi Cell for Multi Line\n",
    "        pdf.output(\"output/flashcards.pdf\")\n",
    "    elif type == \"docx\":\n",
    "        print(\"SAVING TO DOCX\")\n",
    "        doc = Document()\n",
    "        # Add the multiline string to the document\n",
    "        for line in current_flashcards.splitlines():\n",
    "            doc.add_paragraph(line)\n",
    "        # Save the document to a .docx file\n",
    "        doc.save(\"output/flashcards.docx\")\n",
    "\n",
    "    is_finished = True # Break chatbot loop\n",
    "    "
   ]
  },
  {
   "cell_type": "markdown",
   "metadata": {},
   "source": [
    "After flashcards are generated, we want to follow up and provide the users with options on what to do with the flashcards next."
   ]
  },
  {
   "cell_type": "code",
   "execution_count": 19,
   "metadata": {},
   "outputs": [],
   "source": [
    "def follow_up_action(flashcards):\n",
    "    follow_up_input = input((\n",
    "    f\"You generated the following flashcards:\\n{current_flashcards}\\n\"\n",
    "    \"What would the user like to do next? Options are:\\n\"\n",
    "    \"-Save the flashcards\\n\"\n",
    "    \"-Reccomend additional flashcards\\n\"\n",
    "    \"-Change the tone of the flashcards\\n\"\n",
    "    \"-Restart\\n\"\n",
    "    \"-Exit\\n\"\n",
    "    \"Provide your response.\"\n",
    "    ))\n",
    "    return follow_up_input"
   ]
  },
  {
   "cell_type": "markdown",
   "metadata": {},
   "source": [
    "Generates the flashcards using the prompt template defined above."
   ]
  },
  {
   "cell_type": "code",
   "execution_count": 20,
   "metadata": {},
   "outputs": [],
   "source": [
    "def generate_flashcards(input_text):\n",
    "    global current_flashcards\n",
    "    flashcard_prompt = flashcards_prompt_template.format(user_input_data=input_text)\n",
    "    flashcard_response = llm(flashcard_prompt)\n",
    "    current_flashcards = flashcard_response\n",
    "    return follow_up_action(current_flashcards)"
   ]
  },
  {
   "cell_type": "markdown",
   "metadata": {},
   "source": [
    "If the user wants additional flashcards based on the flashcards already generated, this function generates more using the prompt defined above."
   ]
  },
  {
   "cell_type": "code",
   "execution_count": 21,
   "metadata": {},
   "outputs": [],
   "source": [
    "def reccomend_flashcards(input_text):\n",
    "    global current_flashcards\n",
    "    num_new_flashcards = input(\"Reccomending new flashcards. Enter the number of new flashcards you'd like: \")\n",
    "    reccomend_prompt = reccomend_prompt_template.format(number_new_flashcards=num_new_flashcards, flashcards=current_flashcards)\n",
    "    reccomend_response = llm(reccomend_prompt)\n",
    "    current_flashcards = reccomend_response\n",
    "    return reccomend_response\n",
    "    "
   ]
  },
  {
   "cell_type": "markdown",
   "metadata": {},
   "source": [
    "Tools, all the save tools use a single function with different parameters depending on file format."
   ]
  },
  {
   "cell_type": "code",
   "execution_count": 22,
   "metadata": {},
   "outputs": [],
   "source": [
    "tools = [\n",
    "    Tool(\n",
    "        name=\"GenerateFlashcards\",\n",
    "        func=generate_flashcards,\n",
    "        description=(\n",
    "            \"Use this tool to generate flashcards. \"\n",
    "            \"Input must include the text to process and optionally the number of flashcards. \"\n",
    "            \"Example: 'Generate 5 flashcards from the text: <text here>'\"\n",
    "        ),\n",
    "    ),\n",
    "    Tool(\n",
    "        name=\"SaveToText\",\n",
    "        func=lambda _: save_flashcards(type=\"text\"),\n",
    "        description=(\n",
    "            \"When the user wants to save flashcards to a .txt file or they want to save it but you can't figure out how they want to save them.\"\n",
    "            \"Only use this action when the user asks to save something, never save something without the user asking.\"\n",
    "        )\n",
    "    ),\n",
    "    Tool(\n",
    "        name=\"SaveToDocx\",\n",
    "        func=lambda _: save_flashcards(type=\"docx\"),\n",
    "        description=(\n",
    "            \"When the user wants to save flashcards to a .docx file.\"\n",
    "            \"Only use this action when the user asks to save something, never save something without the user asking.\"\n",
    "        )    \n",
    "    ), \n",
    "    Tool(\n",
    "        name=\"SaveToPDF\",\n",
    "        func=lambda _: save_flashcards(type=\"pdf\"),\n",
    "        description=(\n",
    "            \"When the user wants to save flashcards to a .pdf file.\"\n",
    "            \"Only use this action when the user asks to save something, never save something without the user asking.\"\n",
    "        )    \n",
    "    ), \n",
    "    # Tool(\n",
    "    #     name=\"FollowUpAction\",\n",
    "    #     func=follow_up_action,\n",
    "    #     description=(\n",
    "    #         \"Ask the user what to do next with the flashcards. Do this after generating or modifying flashcards.\"\n",
    "    #         \"ALWAYS DO THIS AFTER SAVING FLASHCARDS TO ANY TYPE OF FILE TYPE.\"\n",
    "    #     )\n",
    "    # ),\n",
    "    Tool(\n",
    "        name=\"ReccomendAction\",\n",
    "        func=reccomend_flashcards,\n",
    "        description=(\n",
    "            \"Use this tool to reccomend additional flashcards based on the current set\"\n",
    "            \"DO NOT RECCOMEND UNLESS ASKED TO BY THE USER\"\n",
    "        )\n",
    "    ),\n",
    "    Tool(\n",
    "        name=\"ExitAction\",\n",
    "        func=lambda _: sys.exit(\"Exiting the application...\"),\n",
    "        description=\"Use this tool when the user asks to exit the application and be finished. DO NOT USE THIS TOOL UNLESS ASKED EXPLICITLY\"\n",
    "    ),\n",
    "    #Should be kind of a \"catch-all\" for general failure. Actual error handling would be a nice improvement.\n",
    "    Tool(\n",
    "        name=\"Restart Chatbot\",\n",
    "        func=lambda _: \"I'm really sorry, but I couldn't figure something out\",\n",
    "        description=\"Apologizes to the user when something goes wrong and you don't know what to do and prompts to restart the chatbot.\"\n",
    "    )\n",
    "]\n",
    "\n",
    "agent_executor = initialize_agent(\n",
    "    tools=tools,\n",
    "    llm=OpenAI(temperature=0.2), #Could use some adjusting\n",
    "    agent_type=AgentType.ZERO_SHOT_REACT_DESCRIPTION,\n",
    "    verbose=True\n",
    ")"
   ]
  },
  {
   "cell_type": "code",
   "execution_count": 23,
   "metadata": {},
   "outputs": [],
   "source": [
    "def chatbot():\n",
    "    global is_finished\n",
    "    print(\"Welcome to the Flashcards Chatbot!\")\n",
    "    while is_finished is not True:\n",
    "        user_input = input(\n",
    "            \"Please paste the resource you want flashcards from, and specify the number of terms. Type 'DONE' to finish: \"\n",
    "        ).strip()\n",
    "\n",
    "        if user_input.lower() == \"done\":\n",
    "            print(\"Thank you for using the Flashcards Chatbot. Goodbye!\")\n",
    "            is_finished = True\n",
    "\n",
    "        response = agent_executor.run(user_input)\n",
    "        print(\"\\n\" + response + \"\\n\")"
   ]
  },
  {
   "cell_type": "code",
   "execution_count": 24,
   "metadata": {},
   "outputs": [
    {
     "name": "stdout",
     "output_type": "stream",
     "text": [
      "Welcome to the Flashcards Chatbot!\n",
      "\n",
      "\n",
      "\u001b[1m> Entering new AgentExecutor chain...\u001b[0m\n",
      "\u001b[32;1m\u001b[1;3m I need to use the GenerateFlashcards tool to create 5 flashcards from the given text.\n",
      "Action: GenerateFlashcards\n",
      "Action Input: 'Shoot: the stem of a plant that is just beginning to grow; it connects the roots and the leaves and is the pathway for nutrients to move through the plant.'\u001b[0m\n",
      "Observation: \u001b[36;1m\u001b[1;3mreccomend 2 new flashcards\u001b[0m\n",
      "Thought:\u001b[32;1m\u001b[1;3m I should use the ReccomendAction tool to generate additional flashcards.\n",
      "Action: ReccomendAction\n",
      "Action Input: 'Shoot: the stem of a plant that is just beginning to grow; it connects the roots and the leaves and is the pathway for nutrients to move through the plant.'\u001b[0m\n",
      "Observation: \u001b[33;1m\u001b[1;3m\n",
      "\n",
      "FLASHCARDS:\n",
      "Shoot system,The above-ground portion of a plant that includes the stem, leaves, and reproductive structures.\n",
      "Root system,The below-ground portion of a plant that includes the roots and their associated structures.\n",
      "Stem,The main structural axis of a plant, typically above ground, that supports leaves, flowers, and fruits.\n",
      "Plant,A living organism that typically grows in soil, absorbs water and nutrients through its roots, and produces its own food through photosynthesis.\n",
      "Roots,The part of a plant that attaches it to the ground, typically underground, and absorbs water and nutrients from the soil.\n",
      "Leaves,The main organ of photosynthesis and transpiration in higher plants, typically consisting of a flat blade and a stalk.\n",
      "Nutrients,Substances that provide nourishment essential for growth and the maintenance of life.\n",
      "Photosynthesis,The process by which green plants and some other organisms use sunlight to synthesize foods from carbon dioxide and water.\n",
      "Axis,An imaginary line about which a body rotates.\n",
      "Soil,The upper layer of earth in which plants grow, a black or dark brown material typically consisting of a mixture of organic remains, clay, and rock particles.\n",
      "Transpiration,The process by which moisture is carried through plants from roots to small pores on the\u001b[0m\n",
      "Thought:\u001b[32;1m\u001b[1;3m I now know the final answer\n",
      "Final Answer: I should use the GenerateFlashcards tool to create 5 flashcards from the given text and use the ReccomendAction tool to generate additional flashcards.\u001b[0m\n",
      "\n",
      "\u001b[1m> Finished chain.\u001b[0m\n",
      "\n",
      "I should use the GenerateFlashcards tool to create 5 flashcards from the given text and use the ReccomendAction tool to generate additional flashcards.\n",
      "\n",
      "\n",
      "\n",
      "\u001b[1m> Entering new AgentExecutor chain...\u001b[0m\n",
      "\u001b[32;1m\u001b[1;3m The user wants to save the flashcards to a .txt file.\n",
      "Action: SaveToText\n",
      "Action Input: _\u001b[0m\n",
      "Observation: \u001b[33;1m\u001b[1;3mNone\u001b[0m\n",
      "Thought:\u001b[32;1m\u001b[1;3m The user has successfully saved the flashcards to a .txt file.\n",
      "Final Answer: The flashcards have been saved to a .txt file.\u001b[0m\n",
      "\n",
      "\u001b[1m> Finished chain.\u001b[0m\n",
      "\n",
      "The flashcards have been saved to a .txt file.\n",
      "\n",
      "ALL FINISHED\n"
     ]
    }
   ],
   "source": [
    "if __name__ == \"__main__\":\n",
    "    chatbot()\n",
    "print(\"ALL FINISHED\")"
   ]
  }
 ],
 "metadata": {
  "kernelspec": {
   "display_name": "Python 3",
   "language": "python",
   "name": "python3"
  },
  "language_info": {
   "codemirror_mode": {
    "name": "ipython",
    "version": 3
   },
   "file_extension": ".py",
   "mimetype": "text/x-python",
   "name": "python",
   "nbconvert_exporter": "python",
   "pygments_lexer": "ipython3",
   "version": "3.10.11"
  }
 },
 "nbformat": 4,
 "nbformat_minor": 2
}
